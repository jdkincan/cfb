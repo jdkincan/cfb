{
 "cells": [
  {
   "cell_type": "code",
   "execution_count": null,
   "id": "9d561da9",
   "metadata": {},
   "outputs": [],
   "source": [
    "import pandas as pd"
   ]
  },
  {
   "cell_type": "markdown",
   "id": "61c1d16b",
   "metadata": {},
   "source": [
    "## Import & Clean Data"
   ]
  },
  {
   "cell_type": "code",
   "execution_count": 5,
   "id": "7565346b",
   "metadata": {},
   "outputs": [],
   "source": [
    "date = '2025-08-13'\n",
    "cur_sp_plus_df = pd.read_excel(f'data/sp+_{date}.xlsx')"
   ]
  },
  {
   "cell_type": "code",
   "execution_count": null,
   "id": "752ca09e",
   "metadata": {},
   "outputs": [
    {
     "data": {
      "text/plain": [
       "0            [1., Ohio, St.]\n",
       "1              [2., Alabama]\n",
       "2              [3., Georgia]\n",
       "3            [4., Penn, St.]\n",
       "4                [5., Texas]\n",
       "               ...          \n",
       "131    [132., Kennesaw, St.]\n",
       "132        [133., Charlotte]\n",
       "133        [134., Ball, St.]\n",
       "134            [135., UMass]\n",
       "135        [136., Kent, St.]\n",
       "Name: TEAM, Length: 136, dtype: object"
      ]
     },
     "execution_count": 19,
     "metadata": {},
     "output_type": "execute_result"
    }
   ],
   "source": [
    "# data cleaning \n",
    "cur_sp_plus_df['TEAM'].str.split(' ')"
   ]
  }
 ],
 "metadata": {
  "kernelspec": {
   "display_name": ".env",
   "language": "python",
   "name": "python3"
  },
  "language_info": {
   "codemirror_mode": {
    "name": "ipython",
    "version": 3
   },
   "file_extension": ".py",
   "mimetype": "text/x-python",
   "name": "python",
   "nbconvert_exporter": "python",
   "pygments_lexer": "ipython3",
   "version": "3.11.11"
  }
 },
 "nbformat": 4,
 "nbformat_minor": 5
}
